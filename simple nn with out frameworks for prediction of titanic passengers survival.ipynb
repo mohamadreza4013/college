{
 "cells": [
  {
   "cell_type": "code",
   "execution_count": 1,
   "id": "371c9b1f-219e-4b81-bb0c-a254dd2862b9",
   "metadata": {},
   "outputs": [
    {
     "ename": "RuntimeError",
     "evalue": "module compiled against API version 0xe but this version of numpy is 0xd",
     "output_type": "error",
     "traceback": [
      "\u001b[1;31m---------------------------------------------------------------------------\u001b[0m",
      "\u001b[1;31mRuntimeError\u001b[0m                              Traceback (most recent call last)",
      "\u001b[1;31mRuntimeError\u001b[0m: module compiled against API version 0xe but this version of numpy is 0xd"
     ]
    }
   ],
   "source": [
    "import numpy as np\n",
    "import pandas as pd\n",
    "import warnings\n",
    "import matplotlib.pyplot as plt\n",
    "\n",
    "warnings.filterwarnings(\"ignore\")\n"
   ]
  },
  {
   "cell_type": "raw",
   "id": "82e098e9-3ec2-49ba-baa0-9c6d74affc80",
   "metadata": {},
   "source": [
    "The training and test datasets are loaded using pandas' read_csv function, with full file paths provided to ensure proper access to the data"
   ]
  },
  {
   "cell_type": "code",
   "execution_count": 2,
   "id": "3a1d8622-571d-4c3f-8d7c-c660571e3b4a",
   "metadata": {},
   "outputs": [],
   "source": [
    "train_data = pd.read_csv(r\"D:\\1_titanic\\train.csv\")\n",
    "test_data = pd.read_csv(r\"D:\\1_titanic\\test.csv\")  "
   ]
  },
  {
   "cell_type": "raw",
   "id": "08843dc9-31d4-48e4-b60a-5eec310e42ca",
   "metadata": {},
   "source": [
    "The columns that don’t contribute to the prediction, such as PassengerId, Name, Ticket, and Cabin, are removed from the dataset\n",
    "Sex column (which contains \"male\" and \"female\" values) is converted to numeric values (0 for male and 1 for female)\n",
    "Missing values in the Age and Fare columns are filled with their median values, while missing values in the Embarked column are replaced with a default value of 2 (S for Southampton)\n",
    "All numeric features are normalized using min-max normalization to scale them between 0 and 1\n",
    "After preprocessing, the data is split into features (X_train) and target (y_train) for the training set, and the test data is prepared as well"
   ]
  },
  {
   "cell_type": "code",
   "execution_count": 3,
   "id": "37fb2a26-58c8-4b4d-9975-1605f7dc2552",
   "metadata": {},
   "outputs": [],
   "source": [
    "def preprocess_data(data):\n",
    "\n",
    "    data = data.drop(columns=[\"PassengerId\", \"Name\", \"Ticket\", \"Cabin\"])\n",
    "\n",
    "    data[\"Sex\"] = data[\"Sex\"].map({\"male\": 0, \"female\": 1})\n",
    "\n",
    "\n",
    "    data[\"Age\"].fillna(data[\"Age\"].median(), inplace=True)\n",
    "    data[\"Fare\"].fillna(data[\"Fare\"].median(), inplace=True)\n",
    "\n",
    "    \n",
    "    data[\"Embarked\"] = data[\"Embarked\"].map({\"C\": 0, \"Q\": 1, \"S\": 2})\n",
    "    data[\"Embarked\"].fillna(2, inplace=True) \n",
    "    data = (data - data.min()) / (data.max() - data.min())\n",
    "\n",
    "    return data\n",
    "\n",
    "train_data = preprocess_data(train_data)\n",
    "test_data = preprocess_data(test_data)\n",
    "\n",
    "\n",
    "X_train = train_data.drop(columns=[\"Survived\"]).values  # ویژگی‌ها\n",
    "y_train = train_data[\"Survived\"].values.reshape(-1, 1)  # خروجی موردنظر\n",
    "\n",
    "\n",
    "X_test = test_data.values\n"
   ]
  },
  {
   "cell_type": "raw",
   "id": "efb3d7dd-6ac4-4c7a-aff2-651c22bf5e28",
   "metadata": {},
   "source": [
    "The neural network is defined as a feedforward neural network with one hidden layer. The network uses the sigmoid activation function and follows the standard backpropagation procedure for updating the weights. The key components of the network are"
   ]
  },
  {
   "cell_type": "code",
   "execution_count": 4,
   "id": "a0c0ac36-cd49-43f6-9e81-3ecc197ad82d",
   "metadata": {},
   "outputs": [],
   "source": [
    "class NeuralNetwork:\n",
    "    def __init__(self, input_size, hidden_size, output_size, learning_rate=0.01):\n",
    "        self.input_size = input_size\n",
    "        self.hidden_size = hidden_size\n",
    "        self.output_size = output_size\n",
    "        self.learning_rate = learning_rate\n",
    "        self.W1 = np.random.randn(self.input_size, self.hidden_size)\n",
    "        self.b1 = np.zeros((1, self.hidden_size))\n",
    "        self.W2 = np.random.randn(self.hidden_size, self.output_size)\n",
    "        self.b2 = np.zeros((1, self.output_size))\n",
    "\n",
    "    def sigmoid(self, x):\n",
    "        return 1 / (1 + np.exp(-x))\n",
    "\n",
    "    def forward(self, X):\n",
    "        self.z1 = np.dot(X, self.W1) + self.b1\n",
    "        self.a1 = self.sigmoid(self.z1)\n",
    "        self.z2 = np.dot(self.a1, self.W2) + self.b2\n",
    "        self.a2 = self.sigmoid(self.z2)\n",
    "        return self.a2\n",
    "\n",
    "    def sigmoid_derivative(self, x):\n",
    "        return x * (1 - x)\n",
    "\n",
    "    def backward(self, X, y, output):\n",
    "        error = y - output\n",
    "        d_output = error * self.sigmoid_derivative(output)\n",
    "        error_hidden = np.dot(d_output, self.W2.T)\n",
    "        d_hidden = error_hidden * self.sigmoid_derivative(self.a1)\n",
    "\n",
    "        self.W2 += np.dot(self.a1.T, d_output) * self.learning_rate\n",
    "        self.b2 += np.sum(d_output, axis=0, keepdims=True) * self.learning_rate\n",
    "        self.W1 += np.dot(X.T, d_hidden) * self.learning_rate\n",
    "        self.b1 += np.sum(d_hidden, axis=0, keepdims=True) * self.learning_rate\n",
    "\n",
    "    def train(self, X, y, epochs=5000):\n",
    "        losses = []\n",
    "        for epoch in range(epochs):\n",
    "            output = self.forward(X)\n",
    "            self.backward(X, y, output)\n",
    "            loss = np.mean(np.square(y - output))\n",
    "            losses.append(loss)\n",
    "            if epoch % 500 == 0:\n",
    "                print(f\"Epoch {epoch}: Loss = {loss:.4f}\")\n",
    "        return losses\n",
    "\n",
    "    def predict(self, X):\n",
    "        return (self.forward(X) > 0.5).astype(int)\n"
   ]
  },
  {
   "cell_type": "raw",
   "id": "eb4bd120-fc18-49d9-bee8-82811dd70fb8",
   "metadata": {},
   "source": [
    "The model is trained using the training data, and we track the loss across epochs. Additionally, we calculate the R² and MSE for both training and test data at each epoch"
   ]
  },
  {
   "cell_type": "code",
   "execution_count": 5,
   "id": "59de006f-02ec-4b97-9e36-9b89fffa98b6",
   "metadata": {},
   "outputs": [
    {
     "name": "stdout",
     "output_type": "stream",
     "text": [
      "Epoch 0: Loss = 0.5141\n",
      "Epoch 500: Loss = 0.1348\n",
      "Epoch 1000: Loss = 0.1264\n",
      "Epoch 1500: Loss = 0.1227\n",
      "Epoch 2000: Loss = 0.1217\n",
      "Epoch 2500: Loss = 0.1208\n",
      "Epoch 3000: Loss = 0.1198\n",
      "Epoch 3500: Loss = 0.1187\n",
      "Epoch 4000: Loss = 0.1178\n",
      "Epoch 4500: Loss = 0.1171\n",
      "Epoch 5000: Loss = 0.1166\n",
      "Epoch 5500: Loss = 0.1162\n",
      "Epoch 6000: Loss = 0.1159\n",
      "Epoch 6500: Loss = 0.1156\n",
      "Epoch 7000: Loss = 0.1153\n",
      "Epoch 7500: Loss = 0.1151\n",
      "Epoch 8000: Loss = 0.1149\n",
      "Epoch 8500: Loss = 0.1147\n",
      "Epoch 9000: Loss = 0.1145\n",
      "Epoch 9500: Loss = 0.1141\n",
      "Epoch 10000: Loss = 0.1136\n",
      "Epoch 10500: Loss = 0.1129\n",
      "Epoch 11000: Loss = 0.1124\n",
      "Epoch 11500: Loss = 0.1118\n",
      "Epoch 12000: Loss = 0.1110\n",
      "Epoch 12500: Loss = 0.1104\n",
      "Epoch 13000: Loss = 0.1099\n",
      "Epoch 13500: Loss = 0.1094\n",
      "Epoch 14000: Loss = 0.1090\n",
      "Epoch 14500: Loss = 0.1086\n",
      "Epoch 15000: Loss = 0.1083\n",
      "Epoch 15500: Loss = 0.1079\n",
      "Epoch 16000: Loss = 0.1076\n",
      "Epoch 16500: Loss = 0.1073\n",
      "Epoch 17000: Loss = 0.1071\n",
      "Epoch 17500: Loss = 0.1069\n",
      "Epoch 18000: Loss = 0.1066\n",
      "Epoch 18500: Loss = 0.1064\n",
      "Epoch 19000: Loss = 0.1062\n",
      "Epoch 19500: Loss = 0.1059\n"
     ]
    }
   ],
   "source": [
    "input_size = X_train.shape[1]\n",
    "hidden_size = 12\n",
    "output_size = 1\n",
    "learning_rate = 0.05\n",
    "\n",
    "nn = NeuralNetwork(input_size, hidden_size, output_size, learning_rate)\n",
    "losses = nn.train(X_train, y_train, epochs=20000)\n"
   ]
  },
  {
   "cell_type": "raw",
   "id": "6ca5241d-f95c-4c3c-b5ef-fe13b7f9900b",
   "metadata": {},
   "source": [
    "After training, the model is evaluated on the training data to calculate the accuracy and make predictions on the test set"
   ]
  },
  {
   "cell_type": "code",
   "execution_count": 6,
   "id": "b5a5dd78-ca57-43e8-a866-fba7edcfab6b",
   "metadata": {},
   "outputs": [
    {
     "name": "stdout",
     "output_type": "stream",
     "text": [
      "Training Accuracy: 86.08%\n"
     ]
    }
   ],
   "source": [
    "y_pred_train = nn.predict(X_train)\n",
    "accuracy = np.mean(y_pred_train == y_train)\n",
    "print(f\"Training Accuracy: {accuracy * 100:.2f}%\")"
   ]
  },
  {
   "cell_type": "raw",
   "id": "9befafcf-6f9c-4105-b02d-cbf76ed77c69",
   "metadata": {},
   "source": [
    " also plot the loss function over the epochs to visualize how the loss decreases as the model learns"
   ]
  },
  {
   "cell_type": "code",
   "execution_count": 7,
   "id": "31224f1f-ad57-4f69-8d28-15bf58f3e14e",
   "metadata": {},
   "outputs": [
    {
     "data": {
      "image/png": "[encoded data removed]",
      "text/plain": [
       "<Figure size 1400x600 with 1 Axes>"
      ]
     },
     "metadata": {},
     "output_type": "display_data"
    }
   ],
   "source": [
    "# Plotting the Loss Function\n",
    "\n",
    "plt.figure(figsize=(14, 6))\n",
    "\n",
    "plt.plot(losses)\n",
    "plt.title(\"Loss Function During Training\")\n",
    "plt.xlabel(\"Epochs\")\n",
    "plt.ylabel(\"Loss\")\n",
    "plt.grid(True)\n",
    "plt.show()\n"
   ]
  },
  {
   "cell_type": "raw",
   "id": "7cdcc8f5-191c-4db5-b852-ab1299404121",
   "metadata": {},
   "source": [
    "After training, the model is used to make predictions on the test data. The predictions are saved into a CSV file for submission"
   ]
  },
  {
   "cell_type": "code",
   "execution_count": 8,
   "id": "786912e2-4cc8-4f62-9d27-6e348b9245d7",
   "metadata": {},
   "outputs": [
    {
     "name": "stdout",
     "output_type": "stream",
     "text": [
      "✅ Predictions saved! The submission.csv file is ready.\n"
     ]
    }
   ],
   "source": [
    "# Making predictions on the test data\n",
    "y_pred_test = nn.predict(X_test)\n",
    "\n",
    "# Saving the predictions to a CSV file\n",
    "output = pd.DataFrame({\"PassengerId\": pd.read_csv(r\"D:\\1_titanic\\test.csv\")[\"PassengerId\"], \"Survived\": y_pred_test.flatten()})\n",
    "output.to_csv(\"submission.csv\", index=False)\n",
    "\n",
    "print(\"✅ Predictions saved! The submission.csv file is ready.\")\n"
   ]
  },
  {
   "cell_type": "code",
   "execution_count": null,
   "id": "c43c6874-4771-4e23-93f0-4b23eda1cc79",
   "metadata": {},
   "outputs": [],
   "source": []
  }
 ],
 "metadata": {
  "kernelspec": {
   "display_name": "Python 3 (ipykernel)",
   "language": "python",
   "name": "python3"
  },
  "language_info": {
   "codemirror_mode": {
    "name": "ipython",
    "version": 3
   },
   "file_extension": ".py",
   "mimetype": "text/x-python",
   "name": "python",
   "nbconvert_exporter": "python",
   "pygments_lexer": "ipython3",
   "version": "3.8.20"
  }
 },
 "nbformat": 4,
 "nbformat_minor": 5
}
