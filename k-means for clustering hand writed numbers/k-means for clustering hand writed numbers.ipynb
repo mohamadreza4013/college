{
 "cells": [
  {
   "cell_type": "code",
   "execution_count": null,
   "id": "696c72d7-00de-4be0-9892-ec2344b14189",
   "metadata": {},
   "outputs": [],
   "source": [
    "import numpy as np\n",
    "import matplotlib.pyplot as plt\n",
    "from sklearn.cluster import KMeans\n",
    "import matplotlib.pyplot as plt"
   ]
  },
  {
   "cell_type": "code",
   "execution_count": null,
   "id": "4462ea36-5d8a-4b00-9719-fce8b4213a65",
   "metadata": {},
   "outputs": [],
   "source": [
    "data = np.loadtxt(r\"C:\\Users\\mamadreza\\Documents\\TrainData.txt\",  delimiter=',')  \n",
    "print(\"Data loaded successfully.\")    "
   ]
  },
  {
   "cell_type": "code",
   "execution_count": null,
   "id": "8a7abbaa-2848-4c43-ba9d-bf4a60bbb267",
   "metadata": {},
   "outputs": [],
   "source": [
    "centers = kmeans.cluster_centers_"
   ]
  },
  {
   "cell_type": "code",
   "execution_count": null,
   "id": "93d6b35d-07a3-4440-a642-0c6346209b5f",
   "metadata": {},
   "outputs": [],
   "source": [
    "centers_images = centers.reshape(-1, 40, 30)"
   ]
  },
  {
   "cell_type": "code",
   "execution_count": null,
   "id": "e089ad8a-e28e-4dab-bf37-e1b47a2cd6ce",
   "metadata": {},
   "outputs": [],
   "source": [
    "fig, axes = plt.subplots(1, 10, figsize=(15, 15))\n",
    "for i, ax in enumerate(axes):\n",
    "    ax.imshow(centers_images[i], cmap='gray')\n",
    "    ax.set_title(f\"Centroid {i + 1}\", fontsize=6)  \n",
    "    ax.axis('off')\n",
    "plt.subplots_adjust(wspace=0.3)  \n",
    "plt.show()\n"
   ]
  },
  {
   "cell_type": "code",
   "execution_count": null,
   "id": "f07f5c36-53c2-4312-8fc5-c8ad340e5bf9",
   "metadata": {},
   "outputs": [],
   "source": [
    "#iv\n",
    "import numpy as np\n",
    "import matplotlib.pyplot as plt\n",
    "\n",
    "\n",
    "num_images_to_show = 20\n",
    "images = data[:num_images_to_show]\n",
    "\n",
    "for index in range(num_images_to_show+60):\n",
    "    image = images[index].reshape(40, 30)  \n",
    "    plt.imshow(image, cmap='gray', vmin=0, vmax=1)  \n",
    "    plt.title(f\"Image Index: {index}\")  \n",
    "    plt.axis('off')  \n",
    "    plt.show()\n"
   ]
  },
  {
   "cell_type": "code",
   "execution_count": null,
   "id": "4f6f2524-2f3c-4696-9b8f-76285f735c1e",
   "metadata": {},
   "outputs": [],
   "source": [
    "#iv\n",
    "import numpy as np\n",
    "from sklearn.cluster import KMeans\n",
    "custom_centers = np.array([\n",
    "    data[0],  \n",
    "    data[3], \n",
    "    data[4],\n",
    "    data[12], \n",
    "    data[14],\n",
    "    data[21], \n",
    "    data[27],\n",
    "    data[30], \n",
    "    data[58],\n",
    "    data[29]\n",
    "])\n",
    "\n",
    "kmeans = KMeans(n_clusters=len(custom_centers), init=custom_centers, n_init=1, max_iter=300, random_state=42)\n",
    "kmeans.fit(data)\n",
    "\n",
    "\n"
   ]
  },
  {
   "cell_type": "code",
   "execution_count": null,
   "id": "ca0a7406-82b4-4d57-93af-8d76415c4bd0",
   "metadata": {},
   "outputs": [],
   "source": [
    "#i\n",
    "num_clusters = 10 \n",
    "num_features = data.shape[1]\n",
    "\n",
    "\n",
    "random_centers = np.random.rand(num_clusters, num_features)\n",
    "\n",
    "kmeans = KMeans(n_clusters=num_clusters, init=random_centers, n_init=1, max_iter=300)\n",
    "kmeans.fit(data)\n",
    "centers = kmeans.cluster_centers_"
   ]
  },
  {
   "cell_type": "code",
   "execution_count": null,
   "id": "1af66e43-6021-4d01-a5d9-e23016e03921",
   "metadata": {},
   "outputs": [],
   "source": [
    "#ib\n",
    "num_clusters = 20 \n",
    "num_features = data.shape[1] \n",
    "\n",
    "random_centers = np.random.rand(num_clusters, num_features)\n",
    "kmeans = KMeans(n_clusters=num_clusters, init=random_centers, n_init=1, max_iter=300)\n",
    "kmeans.fit(data)"
   ]
  },
  {
   "cell_type": "code",
   "execution_count": null,
   "id": "77bb92f1-27b5-49cd-a1a6-39f5379e77e8",
   "metadata": {},
   "outputs": [],
   "source": [
    "kmeans = KMeans(n_clusters=10, init='random', n_init=10, max_iter=300, random_state=42)\n",
    "kmeans.fit(data)\n",
    "#ii"
   ]
  },
  {
   "cell_type": "code",
   "execution_count": null,
   "id": "477d5411-fc84-4a96-bad0-3d3a5de19a22",
   "metadata": {},
   "outputs": [],
   "source": [
    "\n",
    "kmeans = KMeans(n_clusters=20, init='random', n_init=10, max_iter=300, random_state=42)\n",
    "kmeans.fit(data)\n",
    "#iib"
   ]
  },
  {
   "cell_type": "code",
   "execution_count": null,
   "id": "b977f796-0e78-4755-b3dc-032bcd58f6aa",
   "metadata": {},
   "outputs": [],
   "source": [
    "#iii\n",
    "centers = []\n",
    "for i in range(0, len(data), 2000):\n",
    "    group = data[i:i + 2000]  \n",
    "    mean_center = np.mean(group, axis=0)  \n",
    "    centers.append(mean_center)  \n",
    "centers = np.array(centers)\n",
    "\n",
    "kmeans = KMeans(n_clusters=len(centers), init=centers, n_init=1, max_iter=300)\n",
    "kmeans.fit(data)\n",
    "print(\"Final cluster centers:\", kmeans.cluster_centers_)\n"
   ]
  },
  {
   "cell_type": "code",
   "execution_count": null,
   "id": "9a69b036-d5d9-4bec-9ffd-f0ea0bc9b9dd",
   "metadata": {},
   "outputs": [],
   "source": [
    "#iiib\n",
    "import numpy as np\n",
    "from sklearn.cluster import KMeans\n",
    "centers = []\n",
    "for i in range(0, len(data), 1000):\n",
    "    group = data[i:i + 1000] \n",
    "    mean_center = np.mean(group, axis=0)  \n",
    "    centers.append(mean_center)  \n",
    "centers = np.array(centers)\n",
    "kmeans = KMeans(n_clusters=len(centers), init=centers, n_init=1, max_iter=300)\n",
    "kmeans.fit(data)\n",
    "\n"
   ]
  },
  {
   "cell_type": "code",
   "execution_count": null,
   "id": "2e31f9f7-ade2-42ee-878f-7c61f74957a6",
   "metadata": {},
   "outputs": [],
   "source": [
    "#c\n",
    "\n",
    "data = np.loadtxt(r\"C:\\Users\\mamadreza\\Documents\\TestData.txt\", delimiter=',')  \n",
    "print(\"Data loaded successfully.\")\n",
    "\n",
    "\n",
    "predicted_labels = kmeans.predict(data)  \n",
    "print(\"Predicted cluster labels for the test data:\", predicted_labels)\n",
    "image = data.reshape(-1, 40, 30)\n",
    "\n",
    "\n",
    "num_images = len(predicted_labels)\n",
    "rows = 3\n",
    "cols = (num_images + rows - 1) // rows \n",
    "\n",
    "fig, axes = plt.subplots(rows, cols, figsize=(15, 10))\n",
    "axes = axes.flatten()  \n",
    "\n",
    "for i in range(num_images):\n",
    "    axes[i].imshow(image[i], cmap='gray')\n",
    "    axes[i].set_title(f\"Image {i} - Cluster {predicted_labels[i]}\", fontsize=8)  \n",
    "    axes[i].axis('off')\n",
    "\n",
    "\n",
    "for j in range(num_images, rows * cols):\n",
    "    axes[j].axis('off')\n",
    "\n",
    "plt.tight_layout() \n",
    "plt.show()\n"
   ]
  },
  {
   "cell_type": "code",
   "execution_count": null,
   "id": "43bb7821-380c-47a3-8bc4-18fcbabf1b11",
   "metadata": {},
   "outputs": [],
   "source": []
  }
 ],
 "metadata": {
  "kernelspec": {
   "display_name": "Python 3 (ipykernel)",
   "language": "python",
   "name": "python3"
  },
  "language_info": {
   "codemirror_mode": {
    "name": "ipython",
    "version": 3
   },
   "file_extension": ".py",
   "mimetype": "text/x-python",
   "name": "python",
   "nbconvert_exporter": "python",
   "pygments_lexer": "ipython3",
   "version": "3.12.4"
  }
 },
 "nbformat": 4,
 "nbformat_minor": 5
}
